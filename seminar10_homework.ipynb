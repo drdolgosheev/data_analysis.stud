{
 "cells": [
  {
   "cell_type": "markdown",
   "metadata": {},
   "source": [
    "<center><img src=\"img/logo_hse_black.jpg\"></center>\n",
    "\n",
    "<h1><center>Data Analysis</center></h1>\n",
    "<h2><center>Seminar: Ensemble Learning. </center></h2>"
   ]
  },
  {
   "cell_type": "code",
   "execution_count": 20,
   "metadata": {},
   "outputs": [],
   "source": [
    "%matplotlib inline\n",
    "\n",
    "import numpy as np\n",
    "import pandas as pd\n",
    "import matplotlib.pyplot as plt\n",
    "from sklearn.tree import DecisionTreeClassifier"
   ]
  },
  {
   "cell_type": "markdown",
   "metadata": {},
   "source": [
    "# Read Data"
   ]
  },
  {
   "cell_type": "code",
   "execution_count": 21,
   "metadata": {},
   "outputs": [],
   "source": [
    "df_X = pd.read_csv('./data/x_train.csv', sep=';')\n",
    "df_y = pd.read_csv('./data/y_train.csv', sep=';', header=None, names=['target'])"
   ]
  },
  {
   "cell_type": "code",
   "execution_count": 22,
   "metadata": {},
   "outputs": [],
   "source": [
    "X = df_X.values\n",
    "y = df_y['target'].values"
   ]
  },
  {
   "cell_type": "code",
   "execution_count": 23,
   "metadata": {},
   "outputs": [
    {
     "name": "stdout",
     "output_type": "stream",
     "text": [
      "X shape:  (25289, 12)\n"
     ]
    },
    {
     "data": {
      "text/plain": [
       "array([[3.90000000e+01, 1.00000000e+01, 3.00000000e+00, 1.70000000e+01,\n        2.44444444e+01, 1.00000000e+00, 5.00000000e+00, 4.00000000e-01,\n        2.65000000e+06, 1.37500000e+03, 2.10000000e+01, 2.00000000e+00],\n       [2.10000000e+01, 2.20000000e+01, 1.90000000e+01, 5.50000000e+01,\n        1.70454545e+01, 1.00000000e+00, 6.00000000e+00, 3.33333333e-01,\n        5.61400000e+06, 3.82500000e+03, 5.10000000e+01, 4.00000000e+00],\n       [5.00000000e+00, 6.00000000e+00, 1.00000000e+00, 6.00000000e+00,\n        8.40000000e+00, 0.00000000e+00, 1.00000000e+00, 1.00000000e+00,\n        8.57000000e+05, 1.15000000e+03, 1.40000000e+01, 1.00000000e+00],\n       [2.10000000e+01, 2.00000000e+00, 5.00000000e+00, 6.00000000e+00,\n        1.90000000e+01, 0.00000000e+00, 1.00000000e+00, 0.00000000e+00,\n        1.20000000e+05, 0.00000000e+00, 1.00000000e+00, 1.00000000e+00],\n       [4.00000000e+00, 5.00000000e+00, 1.00000000e+00, 5.00000000e+00,\n        9.60000000e+00, 0.00000000e+00, 1.00000000e+00, 1.00000000e+00,\n        8.57000000e+05, 1.07500000e+03, 1.20000000e+01, 1.00000000e+00]])"
      ]
     },
     "execution_count": 23,
     "metadata": {},
     "output_type": "execute_result"
    }
   ],
   "source": [
    "print(\"X shape: \", X.shape)\n",
    "X[:5]"
   ]
  },
  {
   "cell_type": "code",
   "execution_count": 24,
   "metadata": {},
   "outputs": [
    {
     "name": "stdout",
     "output_type": "stream",
     "text": [
      "y shape:  (25289,)\n"
     ]
    },
    {
     "data": {
      "text/plain": [
       "array([0, 1, 1, 1, 0])"
      ]
     },
     "execution_count": 24,
     "metadata": {},
     "output_type": "execute_result"
    }
   ],
   "source": [
    "print(\"y shape: \", y.shape)\n",
    "y[:5]"
   ]
  },
  {
   "cell_type": "markdown",
   "metadata": {},
   "source": [
    "# Train / Test Split"
   ]
  },
  {
   "cell_type": "code",
   "execution_count": 25,
   "metadata": {},
   "outputs": [],
   "source": [
    "# import train_test_split function to split the sample\n",
    "from sklearn.model_selection import train_test_split\n",
    "\n",
    "X_train, X_test, y_train, y_test = train_test_split(X, y, \n",
    "                                                    test_size=0.5,    \n",
    "                                                    random_state=123) "
   ]
  },
  {
   "cell_type": "markdown",
   "metadata": {},
   "source": [
    "# Task 1 (5 points)\n",
    "\n",
    "Implement Random Forest classifier as it was described in your lectures:\n",
    "\n",
    "**Input**: \n",
    "* training dataset $TDS=\\{(x_{i},y_{i}),\\,1=1,2,...N\\}$; \n",
    "* the number of trees $B$ and the size of feature subsets $m$.\n",
    "\n",
    "for $b=1,2,...B$:\n",
    "\n",
    "1. generate random training dataset $TDS^{b}$ of size $N$ by sampling $(x_{i},y_{i})$ pairs from $TDS$ with replacement (bootstrap)\n",
    "2. build a tree using $TDS^{b}$ training dataset with feature selection for each node from random subset of features of size $m$ (generated **individually for each node**).\n",
    "\n",
    "\n",
    "**Output**: $B$ trees. Classification is done using majority vote and regression using averaging of $B$ outputs"
   ]
  },
  {
   "cell_type": "markdown",
   "metadata": {},
   "source": [
    "**Hints:**\n",
    "- Use decision tree classifier from sklean library. You can import it with the command: `from sklearn.tree import DecisionTreeClassifier` with `max_features` option. \n",
    "- You can use `numpy.random.choice()` function to generate random subsamples to train decition tree classifiers."
   ]
  },
  {
   "cell_type": "markdown",
   "metadata": {},
   "source": [
    "### Let' s start with small steps"
   ]
  },
  {
   "cell_type": "markdown",
   "metadata": {},
   "source": [
    "#### First step\n",
    "\n",
    "Implement auxiliary function, which generate K random subsamples (with replacement) of X, y of size N"
   ]
  },
  {
   "cell_type": "code",
   "execution_count": 26,
   "metadata": {},
   "outputs": [],
   "source": [
    "def gen_subsamples(X, y, K, N):\n",
    "    list = []\n",
    "    Xy_data = np.column_stack((X,y))\n",
    "    \n",
    "    for i in range(K):\n",
    "        idx = np.random.choice(a=range(len(X)), size=N, replace=True)\n",
    "        list.append(Xy_data[idx])\n",
    "        \n",
    "    return list"
   ]
  },
  {
   "cell_type": "markdown",
   "metadata": {},
   "source": [
    "#### Second step\n",
    "\n",
    "Implement auxiliary function which get list of (X,y) with lengh K and fit K base_estimators. Each estimator fit from the corresponding sample. "
   ]
  },
  {
   "cell_type": "code",
   "execution_count": 27,
   "metadata": {},
   "outputs": [],
   "source": [
    "def fit_subsamples(subsamples, base_estimator):\n",
    "    for i in range(np.shape(subsamples)[0]):\n",
    "        x_array = subsamples[i][:, 0:12]\n",
    "        y_array = subsamples[i][:, 12]\n",
    "        base_estimator(x_array, y_array)"
   ]
  },
  {
   "cell_type": "markdown",
   "metadata": {},
   "source": [
    "#### Example with multiprocessing"
   ]
  },
  {
   "cell_type": "code",
   "execution_count": 28,
   "metadata": {},
   "outputs": [],
   "source": [
    "from sklearn.tree import DecisionTreeClassifier\n",
    "\n",
    "def fit(params):\n",
    "    X, y, size = params\n",
    "    subsamples = gen_subsamples(X, y, size, X.shape[0])\n",
    "\n",
    "    return fit_subsamples(subsamples, DecisionTreeClassifier)\n"
   ]
  },
  {
   "cell_type": "code",
   "execution_count": 29,
   "metadata": {},
   "outputs": [],
   "source": [
    "import multiprocessing\n",
    "\n",
    "process_count = 4\n",
    "\n",
    "parts = [\n",
    "    (X, y, 1000 // process_count)\n",
    "    for i in range(process_count)\n",
    "]"
   ]
  },
  {
   "cell_type": "code",
   "execution_count": 31,
   "metadata": {},
   "outputs": [],
   "source": [
    "with multiprocessing.Pool(process_count) as p:\n",
    "    clfs = p.map(fit, parts)"
   ]
  },
  {
   "cell_type": "markdown",
   "metadata": {},
   "source": [
    "### And now combine it all together in one class"
   ]
  },
  {
   "cell_type": "code",
   "execution_count": 32,
   "metadata": {},
   "outputs": [],
   "source": [
    "class RandomForestCalssifier(object):\n",
    "    def __init__(self, n_trees=10, n_subset_features=2):\n",
    "        self.n_trees = n_trees\n",
    "        self.n_subset_features = n_subset_features\n",
    "        self.tlist = []\n",
    "\n",
    "    def fit(self, X, y):\n",
    "        for i in range(self.n_trees):\n",
    "            idx = np.random.choice(a=range(len(X)), size=len(X), replace=True)\n",
    "\n",
    "            x_array = X[idx]\n",
    "            y_array = y[idx]\n",
    "\n",
    "            tree_classifier = DecisionTreeClassifier()\n",
    "            tree_classifier.fit(x_array, y_array)\n",
    "\n",
    "            self.tlist.append(tree_classifier)\n",
    "\n",
    "\n",
    "    def predict_proba(self, X):\n",
    "        prob_array = []\n",
    "\n",
    "        for i in range(self.n_trees):\n",
    "            try:\n",
    "                prob_array.append(self.tlist[i].predict_proba(X))\n",
    "            except:\n",
    "                continue\n",
    "\n",
    "        prob_array = np.array(prob_array)\n",
    "        mean = prob_array.mean(axis=0)\n",
    "        \n",
    "        return mean\n",
    "\n",
    "\n",
    "    def predict(self, X):\n",
    "        pred_array = []\n",
    "\n",
    "        for i in range(self.n_trees):\n",
    "            pred_array.append(self.tlist[i].predict(X))\n",
    "\n",
    "        pred_array = np.array(pred_array)\n",
    "        result = 1. * (pred_array.mean(axis=0) >= 0.5)\n",
    "\n",
    "        return result\n"
   ]
  },
  {
   "cell_type": "code",
   "execution_count": 33,
   "metadata": {},
   "outputs": [],
   "source": [
    "clf = RandomForestCalssifier()\n",
    "clf.fit(X_train, y_train)"
   ]
  },
  {
   "cell_type": "code",
   "execution_count": 34,
   "metadata": {},
   "outputs": [
    {
     "data": {
      "text/plain": [
       "array([0., 0., 1., 0., 0., 0., 1., 0., 0., 0.])"
      ]
     },
     "execution_count": 34,
     "metadata": {},
     "output_type": "execute_result"
    }
   ],
   "source": [
    "y_test_predict = clf.predict(X_test)\n",
    "y_test_predict[:10]"
   ]
  },
  {
   "cell_type": "markdown",
   "metadata": {},
   "source": [
    "# Task 2 (1 point)\n",
    "\n",
    "Plot ROC curve on the test sample for your random forest classifier. Also, claculate ROC AUC value. Use `RandomForestClassifier.predict_proba()` method.\n",
    "\n",
    "Hints:\n",
    "- You can use `sklearn.metrics.roc_curve` frunction to calculate ROC curve.\n",
    "- `sklearn.metrics.roc_auc_score` function helps you to calculate ROC AUC value."
   ]
  },
  {
   "cell_type": "code",
   "execution_count": 35,
   "metadata": {},
   "outputs": [],
   "source": [
    "from sklearn import metrics"
   ]
  },
  {
   "cell_type": "code",
   "execution_count": 36,
   "metadata": {},
   "outputs": [
    {
     "data": {
      "image/png": "[encoded data removed]",
      "text/plain": [
       "<Figure size 864x432 with 1 Axes>"
      ]
     },
     "metadata": {},
     "output_type": "display_data"
    }
   ],
   "source": [
    "y_test_prob = clf.predict_proba(X_test)\n",
    "line1, line2, notneed = metrics.roc_curve(y_test, y_test_prob[:, 1])\n",
    "\n",
    "plt.figure(figsize=(12, 6))\n",
    "plt.plot(line1, line2)\n",
    "plt.grid()\n",
    "plt.show()"
   ]
  },
  {
   "cell_type": "code",
   "execution_count": 37,
   "metadata": {},
   "outputs": [
    {
     "name": "stdout",
     "output_type": "stream",
     "text": [
      "ROC AUC Score: 0.7602887849667125\n"
     ]
    }
   ],
   "source": [
    "score = metrics.roc_auc_score(y_test, y_test_predict)\n",
    "print('ROC AUC Score: ' + str(score))"
   ]
  },
  {
   "cell_type": "markdown",
   "metadata": {},
   "source": [
    "# Task 3 (2 points)\n",
    "\n",
    "Plot dependecy of ROC AUC value from number of trees (`n_trees`) in your random forest classifier."
   ]
  },
  {
   "cell_type": "code",
   "execution_count": 38,
   "metadata": {},
   "outputs": [
    {
     "data": {
      "image/png": "[encoded data removed]",
      "text/plain": [
       "<Figure size 864x432 with 1 Axes>"
      ]
     },
     "metadata": {},
     "output_type": "display_data"
    }
   ],
   "source": [
    "ROCAUC = []\n",
    "\n",
    "n_trees = np.arange(20, 400, 20)\n",
    "tree_size = len(n_trees)\n",
    "\n",
    "for i in range(tree_size):\n",
    "    clf = RandomForestCalssifier(n_trees=n_trees[i], n_subset_features=2)\n",
    "    clf.fit(X_train, y_train)\n",
    "    \n",
    "    prob_array = clf.predict_proba(X_test)\n",
    "    ROCAUC.append(metrics.roc_auc_score(y_test, prob_array[:, 1]))\n",
    "    \n",
    "plt.figure(figsize=(12, 6))\n",
    "plt.xlabel(\"trees count\")\n",
    "plt.ylabel(\"ROC AUC\")\n",
    "plt.plot(n_trees, ROCAUC)\n",
    "plt.grid()\n",
    "plt.show()"
   ]
  },
  {
   "cell_type": "markdown",
   "metadata": {},
   "source": [
    "# Task 4 (2 points)\n",
    "\n",
    "Plot dependecy of ROC AUC value from `n_subset_features` of your random forest classifier. Use `n_trees=100`."
   ]
  },
  {
   "cell_type": "code",
   "execution_count": 40,
   "metadata": {},
   "outputs": [
    {
     "data": {
      "image/png": "[encoded data removed]",
      "text/plain": [
       "<Figure size 864x432 with 1 Axes>"
      ]
     },
     "metadata": {},
     "output_type": "display_data"
    }
   ],
   "source": [
    "ROCAUC = []\n",
    "\n",
    "n_subset_features = np.arange(2,20,2)\n",
    "subset_size = len(n_subset_features)\n",
    "\n",
    "for i in range(subset_size):\n",
    "    clf = RandomForestCalssifier(n_trees=100, n_subset_features=n_trees[i])\n",
    "    clf.fit(X_train, y_train)\n",
    "    \n",
    "    prob_array = clf.predict_proba(X_test)\n",
    "    ROCAUC.append(metrics.roc_auc_score(y_test, prob_array[:, 1]))\n",
    "    \n",
    "plt.figure(figsize=(12, 6))\n",
    "plt.xlabel(\"subset features\")\n",
    "plt.ylabel(\"ROC AUC\")\n",
    "plt.plot(n_subset_features, ROCAUC)\n",
    "plt.grid()\n",
    "plt.show()"
   ]
  }
 ],
 "metadata": {
  "kernelspec": {
   "display_name": "Python 3",
   "language": "python",
   "name": "python3"
  },
  "language_info": {
   "codemirror_mode": {
    "name": "ipython",
    "version": 3
   },
   "file_extension": ".py",
   "mimetype": "text/x-python",
   "name": "python",
   "nbconvert_exporter": "python",
   "pygments_lexer": "ipython3",
   "version": "3.7.5"
  }
 },
 "nbformat": 4,
 "nbformat_minor": 2
}
