{
 "cells": [
  {
   "cell_type": "markdown",
   "metadata": {
    "id": "nDPULrCwE08Z",
    "colab_type": "text"
   },
   "source": [
    "# Gradient Boosting"
   ]
  },
  {
   "cell_type": "code",
   "execution_count": 128,
   "metadata": {
    "id": "DSIuMZoZE08U",
    "colab_type": "code",
    "colab": {}
   },
   "outputs": [],
   "source": [
    "%matplotlib inline\n",
    "\n",
    "import numpy as np\n",
    "import pandas as pd\n",
    "import matplotlib.pyplot as plt"
   ]
  },
  {
   "cell_type": "markdown",
   "metadata": {
    "id": "EykNmGAQE08a",
    "colab_type": "text"
   },
   "source": [
    "## Read Data"
   ]
  },
  {
   "cell_type": "code",
   "execution_count": 129,
   "metadata": {
    "id": "jPkVeUr2E08a",
    "colab_type": "code",
    "colab": {}
   },
   "outputs": [],
   "source": [
    "#data from here https://www.kaggle.com/c/boston-housing/overview\n",
    "df = pd.read_csv('https://raw.githubusercontent.com/shestakoff/hse_se_ml/master/2020/s11-boosting/data/boston_train.csv').drop(columns = 'ID')"
   ]
  },
  {
   "cell_type": "markdown",
   "metadata": {
    "id": "2TFLqV8fE08e",
    "colab_type": "text"
   },
   "source": [
    " Prediction of house price in Boston.\n",
    " \n",
    " Why it's important? Because it can help people determine a fair price at home."
   ]
  },
  {
   "cell_type": "code",
   "execution_count": 130,
   "metadata": {
    "id": "sydc3zMbE08f",
    "colab_type": "code",
    "colab": {}
   },
   "outputs": [],
   "source": [
    "X = df.drop(columns = 'medv').values\n",
    "y = df['medv'].values"
   ]
  },
  {
   "cell_type": "code",
   "execution_count": 131,
   "metadata": {
    "id": "Wp45ZGz-E08i",
    "colab_type": "code",
    "colab": {},
    "outputId": "a21aa100-1c78-402c-9fd2-ea7d20d558ec"
   },
   "outputs": [
    {
     "data": {
      "text/plain": [
       "(333, 13)"
      ]
     },
     "execution_count": 131,
     "metadata": {},
     "output_type": "execute_result"
    }
   ],
   "source": [
    "X.shape"
   ]
  },
  {
   "cell_type": "markdown",
   "metadata": {
    "id": "CvYkTg5wE08m",
    "colab_type": "text"
   },
   "source": [
    "## Before doing"
   ]
  },
  {
   "cell_type": "markdown",
   "metadata": {
    "id": "dRtz2V8dE08m",
    "colab_type": "text"
   },
   "source": [
    "definition of huber_loss: https://en.wikipedia.org/wiki/Huber_loss"
   ]
  },
  {
   "cell_type": "markdown",
   "metadata": {
    "id": "ezRE9EbiE08n",
    "colab_type": "text"
   },
   "source": [
    "Implement function which calculate $z_i$ from gradient boosting alogirithm (minus gradient of loss function). Implement for all possible loss function (mse, hl, logloss)\n",
    "\n",
    "In hl use $\\delta = 1$, assume that $MSE = \\frac{1}{2}(r - y)^2$ and log_loss(sigmoid(r)) use $0$ and $1$ like class label"
   ]
  },
  {
   "cell_type": "code",
   "execution_count": 132,
   "metadata": {
    "id": "LOxdLZsWE08o",
    "colab_type": "code",
    "colab": {}
   },
   "outputs": [],
   "source": [
    "def calc_objective(r, target, loss = 'mse'):\n",
    "    \n",
    "    indx = 0\n",
    "    size = r.shape[0]\n",
    "    result_arr = np.empty(size)\n",
    "        \n",
    "    if loss == 'hl':\n",
    "        \n",
    "        values_arr = r - target\n",
    "        \n",
    "        for curValue in values_arr:\n",
    "            if abs(curValue) <= 1:\n",
    "                result_arr[indx] = -curValue\n",
    "                indx += 1\n",
    "            else:\n",
    "                result_arr[indx] = np.sign(curValue) * -1\n",
    "                indx += 1\n",
    "                \n",
    "    elif loss == 'logloss':\n",
    "        \n",
    "        for indx in range(0, size):\n",
    "            \n",
    "            if target[indx] == 0:\n",
    "                result_arr[indx] = -1 / (1 + np.exp(-r[indx]))\n",
    "            else:\n",
    "                result_arr[indx] = (np.exp(-r[indx]*target[indx]) * target[indx]) \\\n",
    "                               / (1 + np.exp(-r[indx]*target[indx]))\n",
    "                \n",
    "    else:\n",
    "        values_arr = r - target\n",
    "        result_arr = -values_arr\n",
    "                \n",
    "    return result_arr"
   ]
  },
  {
   "cell_type": "code",
   "execution_count": 133,
   "metadata": {
    "id": "U_RHgvn_E08r",
    "colab_type": "code",
    "colab": {}
   },
   "outputs": [],
   "source": [
    "#test your code\n",
    "\n",
    "r = np.array([1, 2, 3, 4, 5])\n",
    "target = np.array([10, 9, 8, 7, 6])\n",
    "assert(np.allclose(calc_objective(r, target, 'mse'), np.array([9, 7, 5, 3, 1]), 0.00001))\n",
    "\n",
    "r = np.array([2, 4, 7, 9, 13])\n",
    "target = np.array([2.5, 6, 10, 6, 12.75])\n",
    "assert(np.allclose(calc_objective(r, target, 'hl'), np.array([0.5, 1, 1, -1, -0.25]), 0.00001))\n",
    "\n",
    "r = np.array([0, np.log(2), -np.log(9), np.log(4), np.log(19)])\n",
    "target = np.array([0, 1, 0, 1, 1])\n",
    "assert(np.allclose(calc_objective(r, target, 'logloss'), np.array([-0.5, 1. / 3, -0.1, 0.2, 0.05]), 0.00001))"
   ]
  },
  {
   "cell_type": "markdown",
   "metadata": {
    "id": "F56SlEktE08w",
    "colab_type": "text"
   },
   "source": [
    "Implement function which make one step of gradient boossting (fit new estimator)"
   ]
  },
  {
   "cell_type": "code",
   "execution_count": 134,
   "metadata": {
    "id": "DRvS_ARPE08x",
    "colab_type": "code",
    "colab": {}
   },
   "outputs": [],
   "source": [
    "def step(X, y, r, base_estimator, loss = 'mse'):\n",
    "    \n",
    "    c = calc_objective(r, y, loss)\n",
    "\n",
    "    fit_estimator = base_estimator.fit(X, c)\n",
    "\n",
    "    return fit_estimator"
   ]
  },
  {
   "cell_type": "markdown",
   "metadata": {
    "id": "iBn1MDRBE081",
    "colab_type": "text"
   },
   "source": [
    "## Now use your knowledge and implement gradient boosting"
   ]
  },
  {
   "cell_type": "markdown",
   "metadata": {
    "id": "c5h3hNIkE083",
    "colab_type": "text"
   },
   "source": [
    "# Task 1 (6 points)\n",
    "\n",
    "Implement GradientBoostingRegressor as it was described in your lectures:\n",
    "\n",
    "**Input**: training dataset $(x_{i},y_{i}),\\,i=1,2,...N$; loss function $\\mathcal{L}(f,y)$; learning rate $\\nu$ and the number $M$ of successive additive approximations.\n",
    "\n",
    "1. Fit initial approximation $f_{0}(x)$ (might be taken $f_{0}(x)\\equiv0$)\n",
    "2. For each step $m=1,2,...M$:\n",
    "\n",
    "    1. calculate derivatives $z_{i}=-\\frac{\\partial\\mathcal{L}(r,y_{i})}{\\partial r}|_{r=f^{m-1}(x_{i})}$\n",
    "    2. fit $h_{m}$ to $\\{(x_{i},z_{i})\\}_{i=1}^{N}$, for example by solving\n",
    "$$\n",
    "\\sum_{n=1}^{N}(h_{m}(x_{n})-z_{n})^{2}\\to\\min_{h_{m}}\n",
    "$$\n",
    "    4. set $f_{m}(x)=f_{m-1}(x)+\\nu h_{m}(x)$\n",
    "\n",
    "\n",
    "**Output**: approximation function $f_{M}(x)=f_{0}(x)+\\sum_{m=1}^{M}\\nu h_{m}(x)$\n",
    "\n",
    "Implement three loss functions:\n",
    "\n",
    "    1 MSE\n",
    "    2 Huber loss(https://en.wikipedia.org/wiki/Huber_loss)\n",
    "    3 log_loss (in this case we solve classification task\n",
    "In our case $h_m$ is DecisionTreeRegressor"
   ]
  },
  {
   "cell_type": "code",
   "execution_count": 135,
   "metadata": {
    "id": "ag9M3m91E084",
    "colab_type": "code",
    "colab": {}
   },
   "outputs": [],
   "source": [
    "from sklearn.tree import DecisionTreeRegressor"
   ]
  },
  {
   "cell_type": "code",
   "execution_count": 136,
   "metadata": {
    "id": "44f9QR7xE087",
    "colab_type": "code",
    "colab": {}
   },
   "outputs": [],
   "source": [
    "class GradientBoostingEstimator(object):\n",
    "    def __init__(self, n_estimators, max_depth=3, max_leaf_nodes=8, n_subset_features=5, random_state=42,\n",
    "                 loss='mse', learning_rate=0.1):\n",
    "\n",
    "        self.n_estimators = n_estimators\n",
    "        self.learning_rate = learning_rate\n",
    "        self.n_subset_features = n_subset_features\n",
    "        self.max_leaf_nodes = max_leaf_nodes\n",
    "        self.max_depth = max_depth\n",
    "        self.loss = loss\n",
    "        self.random_state = random_state\n",
    "\n",
    "        self.tree_arr = []\n",
    "        self.r_arr = []\n",
    "\n",
    "    def fit(self, X, y):\n",
    "\n",
    "        y_size = y.shape[0]\n",
    "        self.r_arr = np.zeros(y_size)\n",
    "\n",
    "        size = self.n_estimators\n",
    "\n",
    "        for indx in range(size):\n",
    "            dt = DecisionTreeRegressor(max_depth=self.max_depth,\n",
    "                                       max_leaf_nodes=self.max_leaf_nodes,\n",
    "                                       random_state=self.random_state)\n",
    "\n",
    "            c = calc_objective(self.r_arr, y, self.loss)\n",
    "\n",
    "            dt.fit(X, c)\n",
    "\n",
    "            self.tree_arr.append(dt)\n",
    "            self.r_arr = self.r_arr + self.learning_rate * dt.predict(X)\n",
    "\n",
    "\n",
    "    def predict(self, X):\n",
    "\n",
    "        x_size = X.shape[0]\n",
    "        result = np.zeros(x_size)\n",
    "\n",
    "        size = self.n_estimators\n",
    "\n",
    "        for indx in range(0, size):\n",
    "            result += self.learning_rate * self.tree_arr[indx].predict(X)\n",
    "\n",
    "        return result\n",
    "\n",
    "    def predict_proba(self, X):\n",
    "\n",
    "        x_size = X.shape[0]\n",
    "        result = np.zeros(x_size)\n",
    "\n",
    "        size = self.n_estimators\n",
    "\n",
    "        for indx in range(0, size):\n",
    "            result += self.learning_rate * self.tree_arr[indx].predict(X)\n",
    "\n",
    "        result = 1 / (1 + np.exp(-result))\n",
    "\n",
    "        return result\n"
   ]
  },
  {
   "cell_type": "markdown",
   "metadata": {
    "id": "Dbt0U4YdE08-",
    "colab_type": "text"
   },
   "source": [
    "### Important\n",
    "When you select `learning_rate` and `n_estimators`, follow the default values of the tree parameters"
   ]
  },
  {
   "cell_type": "markdown",
   "metadata": {
    "id": "jmgb1d8HE08_",
    "colab_type": "text"
   },
   "source": [
    "# Task 2 (2 points)\n",
    "\n",
    "Split your data on train, valid sample (fix random_seed). Choose the best `learning_rate` and `n_estimators` for every loss (for logloss use data from previous HW). For regression task (mse_loss, huber_loss) use MSE on valid sample as quality measure to choose optimal params, for classification task (logloss) use ROC-AUC."
   ]
  },
  {
   "cell_type": "code",
   "execution_count": 137,
   "metadata": {},
   "outputs": [],
   "source": [
    "from sklearn.model_selection import train_test_split\n",
    "\n",
    "X_train, X_test, y_train, y_test = train_test_split(X, y, test_size=0.8, random_state=50) "
   ]
  },
  {
   "cell_type": "code",
   "execution_count": 138,
   "metadata": {},
   "outputs": [],
   "source": [
    "def setReady():\n",
    "    min_error, best_indx, best_lrate, lrateArr = 2**24, 0, 0, np.arange(0.01, 0.47, 0.05)\n",
    "    \n",
    "    return min_error, best_indx, best_lrate, lrateArr"
   ]
  },
  {
   "cell_type": "code",
   "execution_count": 139,
   "metadata": {},
   "outputs": [],
   "source": [
    "min_error, best_indx, best_lrate, lrateArr = setReady()\n",
    "\n",
    "for curlRate in lrateArr:\n",
    "    \n",
    "    for indx in range(1, 20, 1):\n",
    "        \n",
    "        clf = GradientBoostingEstimator(learning_rate=curlRate,\n",
    "                                        n_estimators=indx, loss = 'mse')\n",
    "\n",
    "        clf.fit(X_train,y_train)\n",
    "    \n",
    "        cur_min = np.power((1/y_test.shape[0]) * \n",
    "                           (clf.predict(X_test).mean() - y_test.mean()), 2)\n",
    "\n",
    "        if min_error > cur_min:\n",
    "            best_lrate = curlRate\n",
    "            min_error = cur_min\n",
    "            best_indx = indx\n"
   ]
  },
  {
   "cell_type": "code",
   "execution_count": 140,
   "metadata": {},
   "outputs": [
    {
     "data": {
      "text/plain": [
       "0.26"
      ]
     },
     "execution_count": 140,
     "metadata": {},
     "output_type": "execute_result"
    }
   ],
   "source": [
    "best_lrate"
   ]
  },
  {
   "cell_type": "code",
   "execution_count": 141,
   "metadata": {},
   "outputs": [
    {
     "data": {
      "text/plain": [
       "17"
      ]
     },
     "execution_count": 141,
     "metadata": {},
     "output_type": "execute_result"
    }
   ],
   "source": [
    "best_indx"
   ]
  },
  {
   "cell_type": "code",
   "execution_count": 142,
   "metadata": {},
   "outputs": [],
   "source": [
    "min_error, best_indx, best_lrate, lrateArr = setReady()\n",
    "\n",
    "for curlRate in lrateArr:\n",
    "    \n",
    "    for indx in range(1, 20, 1):\n",
    "        \n",
    "        clf = GradientBoostingEstimator(learning_rate=curlRate, \n",
    "                                        n_estimators=indx, loss = 'hl')\n",
    "\n",
    "        clf.fit(X_train,y_train)\n",
    "        \n",
    "        cur_min = np.power((1/y_test.shape[0]) * \n",
    "                           (clf.predict(X_test).mean() - y_test.mean()),2)\n",
    "\n",
    "        if min_error > cur_min:\n",
    "            best_lrate = curlRate\n",
    "            min_error = cur_min\n",
    "            best_indx = indx\n"
   ]
  },
  {
   "cell_type": "code",
   "execution_count": 143,
   "metadata": {},
   "outputs": [
    {
     "data": {
      "text/plain": [
       "0.46"
      ]
     },
     "execution_count": 143,
     "metadata": {},
     "output_type": "execute_result"
    }
   ],
   "source": [
    "best_lrate"
   ]
  },
  {
   "cell_type": "code",
   "execution_count": 144,
   "metadata": {},
   "outputs": [
    {
     "data": {
      "text/plain": [
       "19"
      ]
     },
     "execution_count": 144,
     "metadata": {},
     "output_type": "execute_result"
    }
   ],
   "source": [
    "best_indx"
   ]
  },
  {
   "cell_type": "code",
   "execution_count": 159,
   "metadata": {},
   "outputs": [],
   "source": [
    "from sklearn.metrics import roc_auc_score\n",
    "\n",
    "X_df = pd.read_csv('./data/x_train.csv', sep=';')\n",
    "y_df = pd.read_csv('./data/y_train.csv', sep=';', header=None, names=['target'])"
   ]
  },
  {
   "cell_type": "code",
   "execution_count": 160,
   "metadata": {},
   "outputs": [
    {
     "name": "stdout",
     "output_type": "stream",
     "text": [
      "   maxPlayerLevel  numberOfAttemptedLevels  attemptsOnTheHighestLevel  \\\n0              39                       10                          3   \n1              21                       22                         19   \n2               5                        6                          1   \n3              21                        2                          5   \n4               4                        5                          1   \n\n   totalNumOfAttempts  averageNumOfTurnsPerCompletedLevel  \\\n0                  17                           24.444444   \n1                  55                           17.045455   \n2                   6                            8.400000   \n3                   6                           19.000000   \n4                   5                            9.600000   \n\n   doReturnOnLowerLevels  numberOfBoostersUsed  fractionOfUsefullBoosters  \\\n0                      1                     5                   0.400000   \n1                      1                     6                   0.333333   \n2                      0                     1                   1.000000   \n3                      0                     1                   0.000000   \n4                      0                     1                   1.000000   \n\n   totalScore  totalBonusScore  totalStarsCount  numberOfDaysActuallyPlayed  \n0     2650000             1375               21                           2  \n1     5614000             3825               51                           4  \n2      857000             1150               14                           1  \n3      120000                0                1                           1  \n4      857000             1075               12                           1  \n"
     ]
    }
   ],
   "source": [
    "print(X_df.head(5))"
   ]
  },
  {
   "cell_type": "code",
   "execution_count": 161,
   "metadata": {},
   "outputs": [],
   "source": [
    "X_data = X_df.values\n",
    "y_data = y_df['target'].values\n",
    "\n",
    "X_train, X_test, y_train, y_test = train_test_split(X_data, y_data, test_size=0.8,\n",
    "                                                    random_state=50) "
   ]
  },
  {
   "cell_type": "code",
   "execution_count": 162,
   "metadata": {},
   "outputs": [],
   "source": [
    "score, best_indx, best_lrate = 0, 0, 0\n",
    "lrateArr = np.arange(0.01, 0.47, 0.05)\n",
    "\n",
    "for curlRate in lrateArr:\n",
    "    \n",
    "    for indx in range(1, 20, 1):\n",
    "        \n",
    "        clf = GradientBoostingEstimator(learning_rate=curlRate, \n",
    "                                        n_estimators=indx, loss = 'logloss')\n",
    "\n",
    "        clf.fit(X_train,y_train)\n",
    "\n",
    "        cur_score = roc_auc_score(y_test,clf.predict_proba(X_test))\n",
    "\n",
    "        if score < cur_score:\n",
    "            score = cur_score\n",
    "            best_indx = indx\n",
    "            best_lrate = curlRate"
   ]
  },
  {
   "cell_type": "code",
   "execution_count": 163,
   "metadata": {},
   "outputs": [
    {
     "data": {
      "text/plain": [
       "0.8760819734987044"
      ]
     },
     "execution_count": 163,
     "metadata": {},
     "output_type": "execute_result"
    }
   ],
   "source": [
    "score"
   ]
  },
  {
   "cell_type": "code",
   "execution_count": 164,
   "metadata": {},
   "outputs": [
    {
     "data": {
      "text/plain": [
       "19"
      ]
     },
     "execution_count": 164,
     "metadata": {},
     "output_type": "execute_result"
    }
   ],
   "source": [
    "best_indx"
   ]
  },
  {
   "cell_type": "code",
   "execution_count": 165,
   "metadata": {},
   "outputs": [
    {
     "data": {
      "text/plain": [
       "0.46"
      ]
     },
     "execution_count": 165,
     "metadata": {},
     "output_type": "execute_result"
    }
   ],
   "source": [
    "best_lrate"
   ]
  },
  {
   "cell_type": "markdown",
   "metadata": {
    "id": "8RqRrT3ME08_",
    "colab_type": "text"
   },
   "source": [
    "# Task 3 (1 point)\n",
    "Plot dependecy of loss value (in classification task plot roc-auc score) from `n_estimators` of your boosting. Use `learning_rate=0.1`."
   ]
  },
  {
   "cell_type": "code",
   "execution_count": 152,
   "metadata": {},
   "outputs": [],
   "source": [
    "import matplotlib.pyplot as plt"
   ]
  },
  {
   "cell_type": "code",
   "execution_count": 153,
   "metadata": {},
   "outputs": [],
   "source": [
    "X_train, X_test, y_train, y_test = train_test_split(X, y, test_size=0.8, random_state=50) "
   ]
  },
  {
   "cell_type": "code",
   "execution_count": 154,
   "metadata": {},
   "outputs": [],
   "source": [
    "indx_arr, result = np.arange(1, 20, 1), []\n",
    "\n",
    "for indx in indx_arr:\n",
    "    clf = GradientBoostingEstimator(n_estimators=indx, learning_rate=0.1, loss='mse')\n",
    "    clf.fit(X_train, y_train)\n",
    "    \n",
    "    error = np.power((clf.predict(X_test) - y_test), 2) / 2\n",
    "    sum = np.sum(error)\n",
    "    \n",
    "    result.append(sum)\n",
    "\n",
    "result = np.array(result)"
   ]
  },
  {
   "cell_type": "code",
   "execution_count": 155,
   "metadata": {},
   "outputs": [
    {
     "data": {
      "image/png": "[encoded data removed]",
      "text/plain": [
       "<Figure size 864x576 with 1 Axes>"
      ]
     },
     "metadata": {},
     "output_type": "display_data"
    }
   ],
   "source": [
    "plt.figure(figsize=(12, 8))\n",
    "plt.plot(indx_arr, result)\n",
    "plt.grid()\n",
    "plt.show()"
   ]
  },
  {
   "cell_type": "code",
   "execution_count": 120,
   "metadata": {},
   "outputs": [],
   "source": [
    "indx_arr, result = np.arange(1, 200, 1), []\n",
    "\n",
    "for indx in indx_arr:\n",
    "    clf = GradientBoostingEstimator(n_estimators=indx, learning_rate=0.1, loss='hl')\n",
    "    clf.fit(X_train, y_train)\n",
    "    \n",
    "    error = np.power((clf.predict(X_test) - y_test), 2) / 2\n",
    "    sum = np.sum(error)\n",
    "    \n",
    "    result.append(sum)\n",
    "\n",
    "result = np.array(result)"
   ]
  },
  {
   "cell_type": "code",
   "execution_count": 122,
   "metadata": {},
   "outputs": [
    {
     "data": {
      "image/png": "[encoded data removed]",
      "text/plain": [
       "<Figure size 864x576 with 1 Axes>"
      ]
     },
     "metadata": {},
     "output_type": "display_data"
    }
   ],
   "source": [
    "plt.figure(figsize=(12, 8))\n",
    "plt.plot(indx_arr, result)\n",
    "plt.grid()\n",
    "plt.show()"
   ]
  },
  {
   "cell_type": "code",
   "execution_count": 123,
   "metadata": {},
   "outputs": [],
   "source": [
    "X_df = pd.read_csv('./data/x_train.csv', sep=';')\n",
    "y_df = pd.read_csv('./data/y_train.csv', sep=';', header=None, names=['target'])"
   ]
  },
  {
   "cell_type": "code",
   "execution_count": 124,
   "metadata": {},
   "outputs": [
    {
     "name": "stdout",
     "output_type": "stream",
     "text": [
      "   maxPlayerLevel  numberOfAttemptedLevels  attemptsOnTheHighestLevel  \\\n0              39                       10                          3   \n1              21                       22                         19   \n2               5                        6                          1   \n3              21                        2                          5   \n4               4                        5                          1   \n\n   totalNumOfAttempts  averageNumOfTurnsPerCompletedLevel  \\\n0                  17                           24.444444   \n1                  55                           17.045455   \n2                   6                            8.400000   \n3                   6                           19.000000   \n4                   5                            9.600000   \n\n   doReturnOnLowerLevels  numberOfBoostersUsed  fractionOfUsefullBoosters  \\\n0                      1                     5                   0.400000   \n1                      1                     6                   0.333333   \n2                      0                     1                   1.000000   \n3                      0                     1                   0.000000   \n4                      0                     1                   1.000000   \n\n   totalScore  totalBonusScore  totalStarsCount  numberOfDaysActuallyPlayed  \n0     2650000             1375               21                           2  \n1     5614000             3825               51                           4  \n2      857000             1150               14                           1  \n3      120000                0                1                           1  \n4      857000             1075               12                           1  \n"
     ]
    }
   ],
   "source": [
    "print(X_df.head(5))"
   ]
  },
  {
   "cell_type": "code",
   "execution_count": 125,
   "metadata": {},
   "outputs": [],
   "source": [
    "X_data = X_df.values\n",
    "y_data = y_df['target'].values\n",
    "\n",
    "X_train, X_test, y_train, y_test = train_test_split(X_data, y_data, test_size=0.8,\n",
    "                                                    random_state=50) "
   ]
  },
  {
   "cell_type": "code",
   "execution_count": 126,
   "metadata": {},
   "outputs": [],
   "source": [
    "indx_arr, result, score = np.arange(1, 20, 1), [], 0\n",
    "\n",
    "for indx in indx_arr:\n",
    "    clf = GradientBoostingEstimator(n_estimators=indx, learning_rate=0.1, loss='logloss')\n",
    "    clf.fit(X_train, y_train)\n",
    "    \n",
    "    score = roc_auc_score(y_test, clf.predict(X_test))\n",
    "    \n",
    "    result.append(score)\n",
    "\n",
    "result = np.array(result)"
   ]
  },
  {
   "cell_type": "code",
   "execution_count": 127,
   "metadata": {},
   "outputs": [
    {
     "data": {
      "image/png": "[encoded data removed]",
      "text/plain": [
       "<Figure size 864x576 with 1 Axes>"
      ]
     },
     "metadata": {},
     "output_type": "display_data"
    }
   ],
   "source": [
    "plt.figure(figsize=(12, 8))\n",
    "plt.plot(indx_arr, result)\n",
    "plt.grid()\n",
    "plt.show()"
   ]
  },
  {
   "cell_type": "markdown",
   "metadata": {
    "id": "Qbrk5xoXE09A",
    "colab_type": "text"
   },
   "source": [
    "# Task 4 (1 point)\n",
    "Plot dependecy of loss value (in classification task plot roc-auc score) from `learning_rate` of your boosting. Use `n_estimators=100`."
   ]
  },
  {
   "cell_type": "code",
   "execution_count": 166,
   "metadata": {},
   "outputs": [],
   "source": [
    "X_train, X_test, y_train, y_test = train_test_split(X, y, test_size=0.8, random_state=50) "
   ]
  },
  {
   "cell_type": "code",
   "execution_count": 167,
   "metadata": {},
   "outputs": [],
   "source": [
    "lrateArr, result = np.arange(0.01, 0.47, 0.05), []\n",
    "\n",
    "for curlRate in lrateArr:\n",
    "    clf = GradientBoostingEstimator(n_estimators=100, learning_rate=curlRate, loss='mse')\n",
    "    clf.fit(X_train, y_train)\n",
    "    \n",
    "    error = np.power((clf.predict(X_test) - y_test), 2) / 2\n",
    "    sum = np.sum(error)\n",
    "    \n",
    "    result.append(sum)\n",
    "\n",
    "result = np.array(result)"
   ]
  },
  {
   "cell_type": "code",
   "execution_count": 170,
   "metadata": {},
   "outputs": [
    {
     "data": {
      "image/png": "[encoded data removed]",
      "text/plain": [
       "<Figure size 864x576 with 1 Axes>"
      ]
     },
     "metadata": {},
     "output_type": "display_data"
    }
   ],
   "source": [
    "plt.figure(figsize=(12, 8))\n",
    "plt.plot(lrateArr, result)\n",
    "plt.grid()\n",
    "plt.show()"
   ]
  },
  {
   "cell_type": "code",
   "execution_count": 178,
   "metadata": {},
   "outputs": [],
   "source": [
    "lrateArr, result = np.arange(0.01, 0.47, 0.05), []\n",
    "\n",
    "for curlRate in lrateArr:\n",
    "    clf = GradientBoostingEstimator(n_estimators=100, learning_rate=curlRate, loss='hl')\n",
    "    clf.fit(X_train, y_train)\n",
    "    \n",
    "    error = np.power((clf.predict(X_test) - y_test), 2) / 2\n",
    "    sum = np.sum(error)\n",
    "    \n",
    "    result.append(sum)\n",
    "\n",
    "result = np.array(result)"
   ]
  },
  {
   "cell_type": "code",
   "execution_count": 179,
   "metadata": {},
   "outputs": [
    {
     "data": {
      "image/png": "[encoded data removed]",
      "text/plain": [
       "<Figure size 864x576 with 1 Axes>"
      ]
     },
     "metadata": {},
     "output_type": "display_data"
    }
   ],
   "source": [
    "plt.figure(figsize=(12, 8))\n",
    "plt.plot(lrateArr, result)\n",
    "plt.grid()\n",
    "plt.show()"
   ]
  },
  {
   "cell_type": "code",
   "execution_count": 180,
   "metadata": {},
   "outputs": [],
   "source": [
    "X_df = pd.read_csv('./data/x_train.csv', sep=';')\n",
    "y_df = pd.read_csv('./data/y_train.csv', sep=';', header=None, names=['target'])"
   ]
  },
  {
   "cell_type": "code",
   "execution_count": 181,
   "metadata": {},
   "outputs": [
    {
     "name": "stdout",
     "output_type": "stream",
     "text": [
      "   maxPlayerLevel  numberOfAttemptedLevels  attemptsOnTheHighestLevel  \\\n0              39                       10                          3   \n1              21                       22                         19   \n2               5                        6                          1   \n3              21                        2                          5   \n4               4                        5                          1   \n\n   totalNumOfAttempts  averageNumOfTurnsPerCompletedLevel  \\\n0                  17                           24.444444   \n1                  55                           17.045455   \n2                   6                            8.400000   \n3                   6                           19.000000   \n4                   5                            9.600000   \n\n   doReturnOnLowerLevels  numberOfBoostersUsed  fractionOfUsefullBoosters  \\\n0                      1                     5                   0.400000   \n1                      1                     6                   0.333333   \n2                      0                     1                   1.000000   \n3                      0                     1                   0.000000   \n4                      0                     1                   1.000000   \n\n   totalScore  totalBonusScore  totalStarsCount  numberOfDaysActuallyPlayed  \n0     2650000             1375               21                           2  \n1     5614000             3825               51                           4  \n2      857000             1150               14                           1  \n3      120000                0                1                           1  \n4      857000             1075               12                           1  \n"
     ]
    }
   ],
   "source": [
    "print(X_df.head(5))"
   ]
  },
  {
   "cell_type": "code",
   "execution_count": 182,
   "metadata": {},
   "outputs": [],
   "source": [
    "X_data = X_df.values\n",
    "y_data = y_df['target'].values\n",
    "\n",
    "X_train, X_test, y_train, y_test = train_test_split(X_data, y_data, test_size=0.8,\n",
    "                                                    random_state=50) "
   ]
  },
  {
   "cell_type": "code",
   "execution_count": 186,
   "metadata": {},
   "outputs": [],
   "source": [
    "lrateArr, result, score = np.arange(0.01, 0.47, 0.05), [], 0\n",
    "\n",
    "for curlRate in lrateArr:\n",
    "    clf = GradientBoostingEstimator(n_estimators=100, learning_rate=curlRate, loss='logloss')\n",
    "    clf.fit(X_train, y_train)\n",
    "    \n",
    "    score = roc_auc_score(y_test, clf.predict(X_test))\n",
    "    \n",
    "    result.append(score)\n",
    "\n",
    "result = np.array(result)"
   ]
  },
  {
   "cell_type": "code",
   "execution_count": 187,
   "metadata": {},
   "outputs": [
    {
     "data": {
      "image/png": "[encoded data removed]",
      "text/plain": [
       "<Figure size 864x576 with 1 Axes>"
      ]
     },
     "metadata": {},
     "output_type": "display_data"
    }
   ],
   "source": [
    "plt.figure(figsize=(12, 8))\n",
    "plt.plot(lrateArr, result)\n",
    "plt.grid()\n",
    "plt.show()"
   ]
  }
 ],
 "metadata": {
  "kernelspec": {
   "display_name": "Python 3",
   "language": "python",
   "name": "python3"
  },
  "language_info": {
   "codemirror_mode": {
    "name": "ipython",
    "version": 3
   },
   "file_extension": ".py",
   "mimetype": "text/x-python",
   "name": "python",
   "nbconvert_exporter": "python",
   "pygments_lexer": "ipython3",
   "version": "3.6.10"
  },
  "colab": {
   "name": "homework.ipynb",
   "provenance": []
  }
 },
 "nbformat": 4,
 "nbformat_minor": 0
}
